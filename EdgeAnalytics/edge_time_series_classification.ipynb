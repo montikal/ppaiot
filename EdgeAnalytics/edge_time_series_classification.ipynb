{
  "nbformat": 4,
  "nbformat_minor": 0,
  "metadata": {
    "colab": {
      "name": "edge_time_series_classification.ipynb",
      "provenance": [],
      "toc_visible": true,
      "include_colab_link": true
    },
    "kernelspec": {
      "name": "python3",
      "display_name": "Python 3"
    },
    "accelerator": "GPU"
  },
  "cells": [
    {
      "cell_type": "markdown",
      "metadata": {
        "id": "3_4tTEupk1eV"
      },
      "source": [
        "\n",
        "# Edge Device Model Deployment\n",
        "\n",
        "In this notebook, we will train a deep learning model and deploy it to the edge.\n",
        "\n",
        "1. Train model using Keras\n",
        "2. Convert to compressed floating point version using Tensorflow Lite\n",
        "3. Deploy on Raspberry Pi or Edge Device\n",
        "\n",
        "We will use this dataset, which is gathered from a smart factory in Germany: https://www.kaggle.com/inIT-OWL/versatileproductionsystem\n",
        "\n"
      ]
    },
    {
      "cell_type": "code",
      "execution_count": 1,
      "metadata": {
        "colab": {
          "base_uri": "https://localhost:8080/"
        },
        "id": "KdnjFzcLyfbn",
        "outputId": "f0b19efc-4fb2-4f6a-988f-e718e73d80d0"
      },
      "outputs": [
        {
          "name": "stdout",
          "output_type": "stream",
          "text": [
            "Reading package lists... Done\n",
            "Building dependency tree... Done\n",
            "Reading state information... Done\n",
            "The following additional packages will be installed:\n",
            "  libpython3.8-minimal libpython3.8-stdlib mailcap mime-support python3.8-minimal\n",
            "Suggested packages:\n",
            "  python3.8-venv binfmt-support\n",
            "The following NEW packages will be installed:\n",
            "  libpython3.8-minimal libpython3.8-stdlib mailcap mime-support python3.8 python3.8-minimal\n",
            "0 upgraded, 6 newly installed, 0 to remove and 33 not upgraded.\n",
            "Need to get 5,098 kB of archives.\n",
            "After this operation, 18.9 MB of additional disk space will be used.\n",
            "Get:1 http://archive.ubuntu.com/ubuntu jammy/main amd64 mailcap all 3.70+nmu1ubuntu1 [23.8 kB]\n",
            "Get:2 http://archive.ubuntu.com/ubuntu jammy/main amd64 mime-support all 3.66 [3,696 B]\n",
            "Get:3 https://ppa.launchpadcontent.net/deadsnakes/ppa/ubuntu jammy/main amd64 libpython3.8-minimal amd64 3.8.18-1+jammy1 [794 kB]\n",
            "Get:4 https://ppa.launchpadcontent.net/deadsnakes/ppa/ubuntu jammy/main amd64 python3.8-minimal amd64 3.8.18-1+jammy1 [2,024 kB]\n",
            "Get:5 https://ppa.launchpadcontent.net/deadsnakes/ppa/ubuntu jammy/main amd64 libpython3.8-stdlib amd64 3.8.18-1+jammy1 [1,815 kB]\n",
            "Get:6 https://ppa.launchpadcontent.net/deadsnakes/ppa/ubuntu jammy/main amd64 python3.8 amd64 3.8.18-1+jammy1 [438 kB]\n",
            "Fetched 5,098 kB in 2s (2,755 kB/s)\n",
            "Selecting previously unselected package libpython3.8-minimal:amd64.\n",
            "(Reading database ... 121749 files and directories currently installed.)\n",
            "Preparing to unpack .../0-libpython3.8-minimal_3.8.18-1+jammy1_amd64.deb ...\n",
            "Unpacking libpython3.8-minimal:amd64 (3.8.18-1+jammy1) ...\n",
            "Selecting previously unselected package python3.8-minimal.\n",
            "Preparing to unpack .../1-python3.8-minimal_3.8.18-1+jammy1_amd64.deb ...\n",
            "Unpacking python3.8-minimal (3.8.18-1+jammy1) ...\n",
            "Selecting previously unselected package mailcap.\n",
            "Preparing to unpack .../2-mailcap_3.70+nmu1ubuntu1_all.deb ...\n",
            "Unpacking mailcap (3.70+nmu1ubuntu1) ...\n",
            "Selecting previously unselected package mime-support.\n",
            "Preparing to unpack .../3-mime-support_3.66_all.deb ...\n",
            "Unpacking mime-support (3.66) ...\n",
            "Selecting previously unselected package libpython3.8-stdlib:amd64.\n",
            "Preparing to unpack .../4-libpython3.8-stdlib_3.8.18-1+jammy1_amd64.deb ...\n",
            "Unpacking libpython3.8-stdlib:amd64 (3.8.18-1+jammy1) ...\n",
            "Selecting previously unselected package python3.8.\n",
            "Preparing to unpack .../5-python3.8_3.8.18-1+jammy1_amd64.deb ...\n",
            "Unpacking python3.8 (3.8.18-1+jammy1) ...\n",
            "Setting up libpython3.8-minimal:amd64 (3.8.18-1+jammy1) ...\n",
            "Setting up python3.8-minimal (3.8.18-1+jammy1) ...\n",
            "Setting up mailcap (3.70+nmu1ubuntu1) ...\n",
            "Setting up mime-support (3.66) ...\n",
            "Setting up libpython3.8-stdlib:amd64 (3.8.18-1+jammy1) ...\n",
            "Setting up python3.8 (3.8.18-1+jammy1) ...\n",
            "Processing triggers for man-db (2.10.2-1) ...\n",
            "update-alternatives: --install needs <link> <name> <path> <priority>\n",
            "\n",
            "Use 'update-alternatives --help' for program usage information.\n",
            "update-alternatives: error: no alternatives for python3\n",
            "Reading package lists... Done\n",
            "Building dependency tree... Done\n",
            "Reading state information... Done\n",
            "The following additional packages will be installed:\n",
            "  python3-setuptools python3-wheel\n",
            "Suggested packages:\n",
            "  python-setuptools-doc\n",
            "The following NEW packages will be installed:\n",
            "  python3-pip python3-setuptools python3-wheel\n",
            "0 upgraded, 3 newly installed, 0 to remove and 33 not upgraded.\n",
            "Need to get 1,677 kB of archives.\n",
            "After this operation, 8,967 kB of additional disk space will be used.\n",
            "Get:1 http://archive.ubuntu.com/ubuntu jammy-updates/main amd64 python3-setuptools all 59.6.0-1.2ubuntu0.22.04.1 [339 kB]\n",
            "Get:2 http://archive.ubuntu.com/ubuntu jammy-updates/universe amd64 python3-wheel all 0.37.1-2ubuntu0.22.04.1 [32.0 kB]\n",
            "Get:3 http://archive.ubuntu.com/ubuntu jammy-updates/universe amd64 python3-pip all 22.0.2+dfsg-1ubuntu0.4 [1,305 kB]\n",
            "Fetched 1,677 kB in 1s (1,146 kB/s)\n",
            "Selecting previously unselected package python3-setuptools.\n",
            "(Reading database ... 122400 files and directories currently installed.)\n",
            "Preparing to unpack .../python3-setuptools_59.6.0-1.2ubuntu0.22.04.1_all.deb ...\n",
            "Unpacking python3-setuptools (59.6.0-1.2ubuntu0.22.04.1) ...\n",
            "Selecting previously unselected package python3-wheel.\n",
            "Preparing to unpack .../python3-wheel_0.37.1-2ubuntu0.22.04.1_all.deb ...\n",
            "Unpacking python3-wheel (0.37.1-2ubuntu0.22.04.1) ...\n",
            "Selecting previously unselected package python3-pip.\n",
            "Preparing to unpack .../python3-pip_22.0.2+dfsg-1ubuntu0.4_all.deb ...\n",
            "Unpacking python3-pip (22.0.2+dfsg-1ubuntu0.4) ...\n",
            "Setting up python3-setuptools (59.6.0-1.2ubuntu0.22.04.1) ...\n",
            "Setting up python3-wheel (0.37.1-2ubuntu0.22.04.1) ...\n",
            "Setting up python3-pip (22.0.2+dfsg-1ubuntu0.4) ...\n",
            "Processing triggers for man-db (2.10.2-1) ...\n",
            "Reading package lists... Done\n",
            "Building dependency tree... Done\n",
            "Reading state information... Done\n",
            "The following additional packages will be installed:\n",
            "  python3.8-lib2to3\n",
            "The following NEW packages will be installed:\n",
            "  python3.8-distutils python3.8-lib2to3\n",
            "0 upgraded, 2 newly installed, 0 to remove and 33 not upgraded.\n",
            "Need to get 319 kB of archives.\n",
            "After this operation, 1,237 kB of additional disk space will be used.\n",
            "Get:1 https://ppa.launchpadcontent.net/deadsnakes/ppa/ubuntu jammy/main amd64 python3.8-lib2to3 all 3.8.18-1+jammy1 [126 kB]\n",
            "Get:2 https://ppa.launchpadcontent.net/deadsnakes/ppa/ubuntu jammy/main amd64 python3.8-distutils all 3.8.18-1+jammy1 [193 kB]\n",
            "Fetched 319 kB in 1s (246 kB/s)\n",
            "Selecting previously unselected package python3.8-lib2to3.\n",
            "(Reading database ... 123262 files and directories currently installed.)\n",
            "Preparing to unpack .../python3.8-lib2to3_3.8.18-1+jammy1_all.deb ...\n",
            "Unpacking python3.8-lib2to3 (3.8.18-1+jammy1) ...\n",
            "Selecting previously unselected package python3.8-distutils.\n",
            "Preparing to unpack .../python3.8-distutils_3.8.18-1+jammy1_all.deb ...\n",
            "Unpacking python3.8-distutils (3.8.18-1+jammy1) ...\n",
            "Setting up python3.8-lib2to3 (3.8.18-1+jammy1) ...\n",
            "Setting up python3.8-distutils (3.8.18-1+jammy1) ...\n"
          ]
        }
      ],
      "source": [
        "# Use matching version of sklearn as Raspberry Pi docker container or edge device\n",
        "!apt-get install python3.8\n",
        "\n",
        "!update-alternatives --install /usr/bin/python3 python3 /usr/bin/python3.8\n",
        "\n",
        "!update-alternatives --config python3\n",
        "\n",
        "!apt install python3-pip\n",
        "\n",
        "!apt-get install python3.8-distutils\n"
      ]
    },
    {
      "cell_type": "code",
      "execution_count": 2,
      "metadata": {
        "colab": {
          "base_uri": "https://localhost:8080/"
        },
        "id": "iQsJxbFhGkwC",
        "outputId": "aa1c15f0-ec07-4a84-de3a-3015108e7660"
      },
      "outputs": [
        {
          "name": "stdout",
          "output_type": "stream",
          "text": [
            "Colab only includes TensorFlow 2.x; %tensorflow_version has no effect.\n"
          ]
        }
      ],
      "source": [
        "%tensorflow_version 2.x"
      ]
    },
    {
      "cell_type": "code",
      "execution_count": 2,
      "metadata": {
        "colab": {
          "base_uri": "https://localhost:8080/",
          "height": 36
        },
        "id": "PHA7wNb2xwRN",
        "outputId": "229cd2dc-94cf-4e21-bb84-98f3faf66195"
      },
      "outputs": [
        {
          "data": {
            "application/vnd.google.colaboratory.intrinsic+json": {
              "type": "string"
            },
            "text/plain": [
              "'1.2.2'"
            ]
          },
          "execution_count": 2,
          "metadata": {},
          "output_type": "execute_result"
        }
      ],
      "source": [
        "import sklearn\n",
        "sklearn.__version__"
      ]
    },
    {
      "cell_type": "code",
      "execution_count": 3,
      "metadata": {
        "colab": {
          "base_uri": "https://localhost:8080/",
          "height": 36
        },
        "id": "wRaUpG-Hevhh",
        "outputId": "5f225a5e-8964-40aa-b573-b74e38b2897e"
      },
      "outputs": [
        {
          "data": {
            "application/vnd.google.colaboratory.intrinsic+json": {
              "type": "string"
            },
            "text/plain": [
              "'2.15.0'"
            ]
          },
          "execution_count": 3,
          "metadata": {},
          "output_type": "execute_result"
        }
      ],
      "source": [
        "import tensorflow as tf\n",
        "tf.__version__"
      ]
    },
    {
      "cell_type": "code",
      "execution_count": 4,
      "metadata": {
        "id": "smHIl430lswe"
      },
      "outputs": [],
      "source": [
        "import pandas as pd\n",
        "import numpy as np\n",
        "import pickle\n",
        "import matplotlib.pyplot as plt\n",
        "import seaborn as sns\n",
        "\n",
        "from sklearn.feature_selection import VarianceThreshold\n",
        "from sklearn.preprocessing import MinMaxScaler\n",
        "from sklearn.model_selection import train_test_split\n",
        "from sklearn.metrics import classification_report, confusion_matrix\n",
        "\n",
        "import tensorflow as tf\n",
        "from tensorflow.keras.models import Sequential, load_model\n",
        "from tensorflow.keras.layers import Dense, Conv1D, Flatten\n",
        "from tensorflow.keras.callbacks import ModelCheckpoint\n",
        "\n",
        "sns.set(style='whitegrid')\n",
        "%matplotlib inline"
      ]
    },
    {
      "cell_type": "markdown",
      "metadata": {
        "id": "l9g7zOtylkXH"
      },
      "source": [
        "## Dataset\n",
        "\n",
        "Load the dataset from our github repository."
      ]
    },
    {
      "cell_type": "code",
      "execution_count": 5,
      "metadata": {
        "colab": {
          "base_uri": "https://localhost:8080/"
        },
        "id": "G9TTNMJZlwVL",
        "outputId": "b8342fdc-32e3-42b6-8649-b598412b6e40"
      },
      "outputs": [
        {
          "name": "stdout",
          "output_type": "stream",
          "text": [
            "  % Total    % Received % Xferd  Average Speed   Time    Time     Time  Current\n",
            "                                 Dload  Upload   Total   Spent    Left  Speed\n",
            "100  397k  100  397k    0     0   851k      0 --:--:-- --:--:-- --:--:--  849k\n"
          ]
        }
      ],
      "source": [
        "!curl https://raw.githubusercontent.com/lisaong/diec/master/data/versatileproductionsystem.zip --output data.zip"
      ]
    },
    {
      "cell_type": "code",
      "execution_count": 6,
      "metadata": {
        "colab": {
          "base_uri": "https://localhost:8080/"
        },
        "id": "x3yvFuQRl9HY",
        "outputId": "0d187b8d-55b1-46a9-ca0d-9536a4aad875"
      },
      "outputs": [
        {
          "name": "stdout",
          "output_type": "stream",
          "text": [
            "Archive:  data.zip\n",
            "  inflating: Filling_CapScrewer.module.csv  \n",
            "  inflating: Filling_ALL.module.csv  \n",
            "  inflating: Dosingmodule.csv        \n",
            "  inflating: Filling_CornPortioning.module.csv  \n",
            "  inflating: Filling_Pump.module.csv  \n",
            "  inflating: Deliverymodule.csv      \n",
            "  inflating: Filling_CapGrabber.module.csv  \n",
            "  inflating: Production.csv          \n",
            "  inflating: Storagemodule.csv       \n"
          ]
        }
      ],
      "source": [
        "!unzip -o data.zip"
      ]
    },
    {
      "cell_type": "code",
      "execution_count": 7,
      "metadata": {
        "colab": {
          "base_uri": "https://localhost:8080/",
          "height": 287
        },
        "id": "5W1mQD8mmGZ_",
        "outputId": "84c522ff-b7b1-4175-84a9-d04cb8a1bb79"
      },
      "outputs": [
        {
          "data": {
            "application/vnd.google.colaboratory.intrinsic+json": {
              "type": "dataframe",
              "variable_name": "df"
            },
            "text/html": [
              "\n",
              "  <div id=\"df-255c3f11-df52-4897-bbd6-2f145e722df9\" class=\"colab-df-container\">\n",
              "    <div>\n",
              "<style scoped>\n",
              "    .dataframe tbody tr th:only-of-type {\n",
              "        vertical-align: middle;\n",
              "    }\n",
              "\n",
              "    .dataframe tbody tr th {\n",
              "        vertical-align: top;\n",
              "    }\n",
              "\n",
              "    .dataframe thead th {\n",
              "        text-align: right;\n",
              "    }\n",
              "</style>\n",
              "<table border=\"1\" class=\"dataframe\">\n",
              "  <thead>\n",
              "    <tr style=\"text-align: right;\">\n",
              "      <th></th>\n",
              "      <th>I_BottleAtAirpipe</th>\n",
              "      <th>I_BottleClampClose</th>\n",
              "      <th>I_BottleClampOpen</th>\n",
              "      <th>I_BottleGateClosed</th>\n",
              "      <th>I_BottleReserveGateClosed</th>\n",
              "      <th>I_BottlesAvailable</th>\n",
              "      <th>I_BottleSlot1</th>\n",
              "      <th>I_BottleSlot2_H2O</th>\n",
              "      <th>I_BottleSlot3_Corn</th>\n",
              "      <th>I_BottleSlot5_CapOn</th>\n",
              "      <th>...</th>\n",
              "      <th>BottlesAvailable.AnalogValue.EURangeViolation</th>\n",
              "      <th>BottleSlot1.AnalogValue.EURangeViolation</th>\n",
              "      <th>BottleSlot2_H2O.AnalogValue.EURangeViolation</th>\n",
              "      <th>BottleSlot3_Corn.AnalogValue.EURangeViolation</th>\n",
              "      <th>BottleSlot5_CapOn.AnalogValue.EURangeViolation</th>\n",
              "      <th>BottleSlot6_CapCloser.AnalogValue.EURangeViolation</th>\n",
              "      <th>BottleSlot8_ModuleOut.AnalogValue.EURangeViolation</th>\n",
              "      <th>BottlesNotUsed.AnalogValue.EURangeViolation</th>\n",
              "      <th>UltraSonic_Corn.DistanceM.EURangeViolation</th>\n",
              "      <th>UltraSonic_H2O.DistanceM.EURangeViolation</th>\n",
              "    </tr>\n",
              "    <tr>\n",
              "      <th>Timestamp</th>\n",
              "      <th></th>\n",
              "      <th></th>\n",
              "      <th></th>\n",
              "      <th></th>\n",
              "      <th></th>\n",
              "      <th></th>\n",
              "      <th></th>\n",
              "      <th></th>\n",
              "      <th></th>\n",
              "      <th></th>\n",
              "      <th></th>\n",
              "      <th></th>\n",
              "      <th></th>\n",
              "      <th></th>\n",
              "      <th></th>\n",
              "      <th></th>\n",
              "      <th></th>\n",
              "      <th></th>\n",
              "      <th></th>\n",
              "      <th></th>\n",
              "      <th></th>\n",
              "    </tr>\n",
              "  </thead>\n",
              "  <tbody>\n",
              "    <tr>\n",
              "      <th>1529500027127</th>\n",
              "      <td>0</td>\n",
              "      <td>0</td>\n",
              "      <td>1</td>\n",
              "      <td>1</td>\n",
              "      <td>1</td>\n",
              "      <td>1</td>\n",
              "      <td>0</td>\n",
              "      <td>0</td>\n",
              "      <td>0</td>\n",
              "      <td>0</td>\n",
              "      <td>...</td>\n",
              "      <td>0</td>\n",
              "      <td>0</td>\n",
              "      <td>0</td>\n",
              "      <td>0</td>\n",
              "      <td>0</td>\n",
              "      <td>0</td>\n",
              "      <td>0</td>\n",
              "      <td>0</td>\n",
              "      <td>0</td>\n",
              "      <td>0</td>\n",
              "    </tr>\n",
              "    <tr>\n",
              "      <th>1529500027227</th>\n",
              "      <td>0</td>\n",
              "      <td>0</td>\n",
              "      <td>1</td>\n",
              "      <td>1</td>\n",
              "      <td>1</td>\n",
              "      <td>1</td>\n",
              "      <td>0</td>\n",
              "      <td>0</td>\n",
              "      <td>0</td>\n",
              "      <td>0</td>\n",
              "      <td>...</td>\n",
              "      <td>0</td>\n",
              "      <td>0</td>\n",
              "      <td>0</td>\n",
              "      <td>0</td>\n",
              "      <td>0</td>\n",
              "      <td>0</td>\n",
              "      <td>0</td>\n",
              "      <td>0</td>\n",
              "      <td>0</td>\n",
              "      <td>0</td>\n",
              "    </tr>\n",
              "    <tr>\n",
              "      <th>1529500027327</th>\n",
              "      <td>0</td>\n",
              "      <td>0</td>\n",
              "      <td>1</td>\n",
              "      <td>1</td>\n",
              "      <td>1</td>\n",
              "      <td>1</td>\n",
              "      <td>0</td>\n",
              "      <td>0</td>\n",
              "      <td>0</td>\n",
              "      <td>0</td>\n",
              "      <td>...</td>\n",
              "      <td>0</td>\n",
              "      <td>0</td>\n",
              "      <td>0</td>\n",
              "      <td>0</td>\n",
              "      <td>0</td>\n",
              "      <td>0</td>\n",
              "      <td>0</td>\n",
              "      <td>0</td>\n",
              "      <td>0</td>\n",
              "      <td>0</td>\n",
              "    </tr>\n",
              "    <tr>\n",
              "      <th>1529500027428</th>\n",
              "      <td>0</td>\n",
              "      <td>0</td>\n",
              "      <td>1</td>\n",
              "      <td>1</td>\n",
              "      <td>1</td>\n",
              "      <td>1</td>\n",
              "      <td>0</td>\n",
              "      <td>0</td>\n",
              "      <td>0</td>\n",
              "      <td>0</td>\n",
              "      <td>...</td>\n",
              "      <td>0</td>\n",
              "      <td>0</td>\n",
              "      <td>0</td>\n",
              "      <td>0</td>\n",
              "      <td>0</td>\n",
              "      <td>0</td>\n",
              "      <td>0</td>\n",
              "      <td>0</td>\n",
              "      <td>0</td>\n",
              "      <td>0</td>\n",
              "    </tr>\n",
              "    <tr>\n",
              "      <th>1529500027528</th>\n",
              "      <td>0</td>\n",
              "      <td>0</td>\n",
              "      <td>1</td>\n",
              "      <td>1</td>\n",
              "      <td>1</td>\n",
              "      <td>1</td>\n",
              "      <td>0</td>\n",
              "      <td>0</td>\n",
              "      <td>0</td>\n",
              "      <td>0</td>\n",
              "      <td>...</td>\n",
              "      <td>0</td>\n",
              "      <td>0</td>\n",
              "      <td>0</td>\n",
              "      <td>0</td>\n",
              "      <td>0</td>\n",
              "      <td>0</td>\n",
              "      <td>0</td>\n",
              "      <td>0</td>\n",
              "      <td>0</td>\n",
              "      <td>0</td>\n",
              "    </tr>\n",
              "  </tbody>\n",
              "</table>\n",
              "<p>5 rows × 84 columns</p>\n",
              "</div>\n",
              "    <div class=\"colab-df-buttons\">\n",
              "\n",
              "  <div class=\"colab-df-container\">\n",
              "    <button class=\"colab-df-convert\" onclick=\"convertToInteractive('df-255c3f11-df52-4897-bbd6-2f145e722df9')\"\n",
              "            title=\"Convert this dataframe to an interactive table.\"\n",
              "            style=\"display:none;\">\n",
              "\n",
              "  <svg xmlns=\"http://www.w3.org/2000/svg\" height=\"24px\" viewBox=\"0 -960 960 960\">\n",
              "    <path d=\"M120-120v-720h720v720H120Zm60-500h600v-160H180v160Zm220 220h160v-160H400v160Zm0 220h160v-160H400v160ZM180-400h160v-160H180v160Zm440 0h160v-160H620v160ZM180-180h160v-160H180v160Zm440 0h160v-160H620v160Z\"/>\n",
              "  </svg>\n",
              "    </button>\n",
              "\n",
              "  <style>\n",
              "    .colab-df-container {\n",
              "      display:flex;\n",
              "      gap: 12px;\n",
              "    }\n",
              "\n",
              "    .colab-df-convert {\n",
              "      background-color: #E8F0FE;\n",
              "      border: none;\n",
              "      border-radius: 50%;\n",
              "      cursor: pointer;\n",
              "      display: none;\n",
              "      fill: #1967D2;\n",
              "      height: 32px;\n",
              "      padding: 0 0 0 0;\n",
              "      width: 32px;\n",
              "    }\n",
              "\n",
              "    .colab-df-convert:hover {\n",
              "      background-color: #E2EBFA;\n",
              "      box-shadow: 0px 1px 2px rgba(60, 64, 67, 0.3), 0px 1px 3px 1px rgba(60, 64, 67, 0.15);\n",
              "      fill: #174EA6;\n",
              "    }\n",
              "\n",
              "    .colab-df-buttons div {\n",
              "      margin-bottom: 4px;\n",
              "    }\n",
              "\n",
              "    [theme=dark] .colab-df-convert {\n",
              "      background-color: #3B4455;\n",
              "      fill: #D2E3FC;\n",
              "    }\n",
              "\n",
              "    [theme=dark] .colab-df-convert:hover {\n",
              "      background-color: #434B5C;\n",
              "      box-shadow: 0px 1px 3px 1px rgba(0, 0, 0, 0.15);\n",
              "      filter: drop-shadow(0px 1px 2px rgba(0, 0, 0, 0.3));\n",
              "      fill: #FFFFFF;\n",
              "    }\n",
              "  </style>\n",
              "\n",
              "    <script>\n",
              "      const buttonEl =\n",
              "        document.querySelector('#df-255c3f11-df52-4897-bbd6-2f145e722df9 button.colab-df-convert');\n",
              "      buttonEl.style.display =\n",
              "        google.colab.kernel.accessAllowed ? 'block' : 'none';\n",
              "\n",
              "      async function convertToInteractive(key) {\n",
              "        const element = document.querySelector('#df-255c3f11-df52-4897-bbd6-2f145e722df9');\n",
              "        const dataTable =\n",
              "          await google.colab.kernel.invokeFunction('convertToInteractive',\n",
              "                                                    [key], {});\n",
              "        if (!dataTable) return;\n",
              "\n",
              "        const docLinkHtml = 'Like what you see? Visit the ' +\n",
              "          '<a target=\"_blank\" href=https://colab.research.google.com/notebooks/data_table.ipynb>data table notebook</a>'\n",
              "          + ' to learn more about interactive tables.';\n",
              "        element.innerHTML = '';\n",
              "        dataTable['output_type'] = 'display_data';\n",
              "        await google.colab.output.renderOutput(dataTable, element);\n",
              "        const docLink = document.createElement('div');\n",
              "        docLink.innerHTML = docLinkHtml;\n",
              "        element.appendChild(docLink);\n",
              "      }\n",
              "    </script>\n",
              "  </div>\n",
              "\n",
              "\n",
              "<div id=\"df-826dcd1a-7624-41d1-af34-3c5164eea9fc\">\n",
              "  <button class=\"colab-df-quickchart\" onclick=\"quickchart('df-826dcd1a-7624-41d1-af34-3c5164eea9fc')\"\n",
              "            title=\"Suggest charts\"\n",
              "            style=\"display:none;\">\n",
              "\n",
              "<svg xmlns=\"http://www.w3.org/2000/svg\" height=\"24px\"viewBox=\"0 0 24 24\"\n",
              "     width=\"24px\">\n",
              "    <g>\n",
              "        <path d=\"M19 3H5c-1.1 0-2 .9-2 2v14c0 1.1.9 2 2 2h14c1.1 0 2-.9 2-2V5c0-1.1-.9-2-2-2zM9 17H7v-7h2v7zm4 0h-2V7h2v10zm4 0h-2v-4h2v4z\"/>\n",
              "    </g>\n",
              "</svg>\n",
              "  </button>\n",
              "\n",
              "<style>\n",
              "  .colab-df-quickchart {\n",
              "      --bg-color: #E8F0FE;\n",
              "      --fill-color: #1967D2;\n",
              "      --hover-bg-color: #E2EBFA;\n",
              "      --hover-fill-color: #174EA6;\n",
              "      --disabled-fill-color: #AAA;\n",
              "      --disabled-bg-color: #DDD;\n",
              "  }\n",
              "\n",
              "  [theme=dark] .colab-df-quickchart {\n",
              "      --bg-color: #3B4455;\n",
              "      --fill-color: #D2E3FC;\n",
              "      --hover-bg-color: #434B5C;\n",
              "      --hover-fill-color: #FFFFFF;\n",
              "      --disabled-bg-color: #3B4455;\n",
              "      --disabled-fill-color: #666;\n",
              "  }\n",
              "\n",
              "  .colab-df-quickchart {\n",
              "    background-color: var(--bg-color);\n",
              "    border: none;\n",
              "    border-radius: 50%;\n",
              "    cursor: pointer;\n",
              "    display: none;\n",
              "    fill: var(--fill-color);\n",
              "    height: 32px;\n",
              "    padding: 0;\n",
              "    width: 32px;\n",
              "  }\n",
              "\n",
              "  .colab-df-quickchart:hover {\n",
              "    background-color: var(--hover-bg-color);\n",
              "    box-shadow: 0 1px 2px rgba(60, 64, 67, 0.3), 0 1px 3px 1px rgba(60, 64, 67, 0.15);\n",
              "    fill: var(--button-hover-fill-color);\n",
              "  }\n",
              "\n",
              "  .colab-df-quickchart-complete:disabled,\n",
              "  .colab-df-quickchart-complete:disabled:hover {\n",
              "    background-color: var(--disabled-bg-color);\n",
              "    fill: var(--disabled-fill-color);\n",
              "    box-shadow: none;\n",
              "  }\n",
              "\n",
              "  .colab-df-spinner {\n",
              "    border: 2px solid var(--fill-color);\n",
              "    border-color: transparent;\n",
              "    border-bottom-color: var(--fill-color);\n",
              "    animation:\n",
              "      spin 1s steps(1) infinite;\n",
              "  }\n",
              "\n",
              "  @keyframes spin {\n",
              "    0% {\n",
              "      border-color: transparent;\n",
              "      border-bottom-color: var(--fill-color);\n",
              "      border-left-color: var(--fill-color);\n",
              "    }\n",
              "    20% {\n",
              "      border-color: transparent;\n",
              "      border-left-color: var(--fill-color);\n",
              "      border-top-color: var(--fill-color);\n",
              "    }\n",
              "    30% {\n",
              "      border-color: transparent;\n",
              "      border-left-color: var(--fill-color);\n",
              "      border-top-color: var(--fill-color);\n",
              "      border-right-color: var(--fill-color);\n",
              "    }\n",
              "    40% {\n",
              "      border-color: transparent;\n",
              "      border-right-color: var(--fill-color);\n",
              "      border-top-color: var(--fill-color);\n",
              "    }\n",
              "    60% {\n",
              "      border-color: transparent;\n",
              "      border-right-color: var(--fill-color);\n",
              "    }\n",
              "    80% {\n",
              "      border-color: transparent;\n",
              "      border-right-color: var(--fill-color);\n",
              "      border-bottom-color: var(--fill-color);\n",
              "    }\n",
              "    90% {\n",
              "      border-color: transparent;\n",
              "      border-bottom-color: var(--fill-color);\n",
              "    }\n",
              "  }\n",
              "</style>\n",
              "\n",
              "  <script>\n",
              "    async function quickchart(key) {\n",
              "      const quickchartButtonEl =\n",
              "        document.querySelector('#' + key + ' button');\n",
              "      quickchartButtonEl.disabled = true;  // To prevent multiple clicks.\n",
              "      quickchartButtonEl.classList.add('colab-df-spinner');\n",
              "      try {\n",
              "        const charts = await google.colab.kernel.invokeFunction(\n",
              "            'suggestCharts', [key], {});\n",
              "      } catch (error) {\n",
              "        console.error('Error during call to suggestCharts:', error);\n",
              "      }\n",
              "      quickchartButtonEl.classList.remove('colab-df-spinner');\n",
              "      quickchartButtonEl.classList.add('colab-df-quickchart-complete');\n",
              "    }\n",
              "    (() => {\n",
              "      let quickchartButtonEl =\n",
              "        document.querySelector('#df-826dcd1a-7624-41d1-af34-3c5164eea9fc button');\n",
              "      quickchartButtonEl.style.display =\n",
              "        google.colab.kernel.accessAllowed ? 'block' : 'none';\n",
              "    })();\n",
              "  </script>\n",
              "</div>\n",
              "\n",
              "    </div>\n",
              "  </div>\n"
            ],
            "text/plain": [
              "               I_BottleAtAirpipe  I_BottleClampClose  I_BottleClampOpen  \\\n",
              "Timestamp                                                                 \n",
              "1529500027127                  0                   0                  1   \n",
              "1529500027227                  0                   0                  1   \n",
              "1529500027327                  0                   0                  1   \n",
              "1529500027428                  0                   0                  1   \n",
              "1529500027528                  0                   0                  1   \n",
              "\n",
              "               I_BottleGateClosed  I_BottleReserveGateClosed  \\\n",
              "Timestamp                                                      \n",
              "1529500027127                   1                          1   \n",
              "1529500027227                   1                          1   \n",
              "1529500027327                   1                          1   \n",
              "1529500027428                   1                          1   \n",
              "1529500027528                   1                          1   \n",
              "\n",
              "               I_BottlesAvailable  I_BottleSlot1  I_BottleSlot2_H2O  \\\n",
              "Timestamp                                                             \n",
              "1529500027127                   1              0                  0   \n",
              "1529500027227                   1              0                  0   \n",
              "1529500027327                   1              0                  0   \n",
              "1529500027428                   1              0                  0   \n",
              "1529500027528                   1              0                  0   \n",
              "\n",
              "               I_BottleSlot3_Corn  I_BottleSlot5_CapOn  ...  \\\n",
              "Timestamp                                               ...   \n",
              "1529500027127                   0                    0  ...   \n",
              "1529500027227                   0                    0  ...   \n",
              "1529500027327                   0                    0  ...   \n",
              "1529500027428                   0                    0  ...   \n",
              "1529500027528                   0                    0  ...   \n",
              "\n",
              "               BottlesAvailable.AnalogValue.EURangeViolation  \\\n",
              "Timestamp                                                      \n",
              "1529500027127                                              0   \n",
              "1529500027227                                              0   \n",
              "1529500027327                                              0   \n",
              "1529500027428                                              0   \n",
              "1529500027528                                              0   \n",
              "\n",
              "               BottleSlot1.AnalogValue.EURangeViolation  \\\n",
              "Timestamp                                                 \n",
              "1529500027127                                         0   \n",
              "1529500027227                                         0   \n",
              "1529500027327                                         0   \n",
              "1529500027428                                         0   \n",
              "1529500027528                                         0   \n",
              "\n",
              "               BottleSlot2_H2O.AnalogValue.EURangeViolation  \\\n",
              "Timestamp                                                     \n",
              "1529500027127                                             0   \n",
              "1529500027227                                             0   \n",
              "1529500027327                                             0   \n",
              "1529500027428                                             0   \n",
              "1529500027528                                             0   \n",
              "\n",
              "               BottleSlot3_Corn.AnalogValue.EURangeViolation  \\\n",
              "Timestamp                                                      \n",
              "1529500027127                                              0   \n",
              "1529500027227                                              0   \n",
              "1529500027327                                              0   \n",
              "1529500027428                                              0   \n",
              "1529500027528                                              0   \n",
              "\n",
              "               BottleSlot5_CapOn.AnalogValue.EURangeViolation  \\\n",
              "Timestamp                                                       \n",
              "1529500027127                                               0   \n",
              "1529500027227                                               0   \n",
              "1529500027327                                               0   \n",
              "1529500027428                                               0   \n",
              "1529500027528                                               0   \n",
              "\n",
              "               BottleSlot6_CapCloser.AnalogValue.EURangeViolation  \\\n",
              "Timestamp                                                           \n",
              "1529500027127                                                  0    \n",
              "1529500027227                                                  0    \n",
              "1529500027327                                                  0    \n",
              "1529500027428                                                  0    \n",
              "1529500027528                                                  0    \n",
              "\n",
              "               BottleSlot8_ModuleOut.AnalogValue.EURangeViolation  \\\n",
              "Timestamp                                                           \n",
              "1529500027127                                                  0    \n",
              "1529500027227                                                  0    \n",
              "1529500027327                                                  0    \n",
              "1529500027428                                                  0    \n",
              "1529500027528                                                  0    \n",
              "\n",
              "               BottlesNotUsed.AnalogValue.EURangeViolation  \\\n",
              "Timestamp                                                    \n",
              "1529500027127                                            0   \n",
              "1529500027227                                            0   \n",
              "1529500027327                                            0   \n",
              "1529500027428                                            0   \n",
              "1529500027528                                            0   \n",
              "\n",
              "               UltraSonic_Corn.DistanceM.EURangeViolation  \\\n",
              "Timestamp                                                   \n",
              "1529500027127                                           0   \n",
              "1529500027227                                           0   \n",
              "1529500027327                                           0   \n",
              "1529500027428                                           0   \n",
              "1529500027528                                           0   \n",
              "\n",
              "               UltraSonic_H2O.DistanceM.EURangeViolation  \n",
              "Timestamp                                                 \n",
              "1529500027127                                          0  \n",
              "1529500027227                                          0  \n",
              "1529500027327                                          0  \n",
              "1529500027428                                          0  \n",
              "1529500027528                                          0  \n",
              "\n",
              "[5 rows x 84 columns]"
            ]
          },
          "execution_count": 7,
          "metadata": {},
          "output_type": "execute_result"
        }
      ],
      "source": [
        "# read one of the data files\n",
        "df = pd.read_csv('./Filling_ALL.module.csv', index_col=0)\n",
        "df.head()"
      ]
    },
    {
      "cell_type": "markdown",
      "metadata": {
        "id": "B4L4UWkHnK3q"
      },
      "source": [
        "## Task Definition\n",
        "\n",
        "A common factory monitoring scenario is to predict a target based on past history.\n",
        "\n",
        "For the purposes of this workshop, let's try to predict the value of 'I_BottlesReserveAvailable', using last 10 values of each feature."
      ]
    },
    {
      "cell_type": "code",
      "execution_count": 8,
      "metadata": {
        "colab": {
          "base_uri": "https://localhost:8080/",
          "height": 458
        },
        "id": "KVGhZWp0mSco",
        "outputId": "9ca0823a-25f4-40ee-d4aa-e0129f48104a"
      },
      "outputs": [
        {
          "data": {
            "image/png": "[encoded data removed]",
            "text/plain": [
              "<Figure size 640x480 with 1 Axes>"
            ]
          },
          "metadata": {},
          "output_type": "display_data"
        }
      ],
      "source": [
        "# Target\n",
        "target = 'I_BottlesReserveAvailable'\n",
        "\n",
        "df[target].plot();"
      ]
    },
    {
      "cell_type": "code",
      "execution_count": 9,
      "metadata": {
        "colab": {
          "base_uri": "https://localhost:8080/"
        },
        "id": "vJxiO4oBWv79",
        "outputId": "1f90a205-9648-4948-cb0f-a257b9643157"
      },
      "outputs": [
        {
          "data": {
            "text/plain": [
              "1    5603\n",
              "0    4926\n",
              "Name: I_BottlesReserveAvailable, dtype: int64"
            ]
          },
          "execution_count": 9,
          "metadata": {},
          "output_type": "execute_result"
        }
      ],
      "source": [
        "# check for balanced classes\n",
        "df[target].value_counts()"
      ]
    },
    {
      "cell_type": "code",
      "execution_count": 10,
      "metadata": {
        "colab": {
          "base_uri": "https://localhost:8080/"
        },
        "id": "dSPmAh6OZO24",
        "outputId": "809a9960-c5bb-4916-9ec3-653e022ba794"
      },
      "outputs": [
        {
          "data": {
            "text/plain": [
              "Index(['I_BottleAtAirpipe', 'I_BottleClampClose', 'I_BottleClampOpen',\n",
              "       'I_BottleGateClosed', 'I_BottleReserveGateClosed', 'I_BottlesAvailable',\n",
              "       'I_BottleSlot1', 'I_BottleSlot2_H2O', 'I_BottleSlot3_Corn',\n",
              "       'I_BottleSlot5_CapOn', 'I_BottleSlot6_CapScrewer',\n",
              "       'I_BottleSlot8_Output', 'I_BottlesReserveAvailable', 'I_CapGrabberDown',\n",
              "       'I_CapGrabberUp', 'I_CapOnConveyor', 'I_CapScrewer_Down',\n",
              "       'I_CapScrewer_Up', 'I_CapScrewerClosePos', 'I_CapScrewerGrabClosed',\n",
              "       'I_CapScrewerOpenPos', 'I_CornTankFull', 'I_LinAxisCapInGrabber',\n",
              "       'I_LinAxisDown', 'I_LinAxisEmptyGrabber', 'I_LinAxisUp',\n",
              "       'I_NoCapOnConveyor', 'I_Portioning', 'I_Pump_Down', 'I_Pump_Up',\n",
              "       'I_RotaryTablePosReached', 'I_UltrasonicCorn',\n",
              "       'I_UltrasonicCorn_Distance', 'I_UltrasonicH2O',\n",
              "       'I_UltrasonicH2O_Distance', 'I_WaterTankMinFull', 'I_WaterTankNotFull',\n",
              "       'O_ActivateAirpipe', 'O_BottleClampClose', 'O_CapGrabberOpenClose',\n",
              "       'O_CapGrabberUpDown', 'O_CapScrewDown', 'O_CapScrewerGrabberOpenClose',\n",
              "       'O_CloseCap', 'O_ConveyorCapsEnable', 'O_ConveyorCapsForward',\n",
              "       'O_ConveyorModuleIn', 'O_ConveyorModuleOut', 'O_GateBottleClose',\n",
              "       'O_GateReserveClose', 'O_LinAxisUpDown', 'O_PortionerForward',\n",
              "       'O_PortionerReverse', 'O_PortionerSlow', 'O_PumpUpDown',\n",
              "       'O_RotaryTable', 'O_ValvePumpCloseOpen', 'PendingOrder', 'Portions',\n",
              "       'PumpStrokes', 'Rotating', 'SlowPortioning', 'State', 'BottleSlot1',\n",
              "       'BottleSlot2_H2O', 'BottleSlot3_Corn', 'BottleSlot5_CapOn',\n",
              "       'BottleSlot6_CapCloser', 'BottleSlot8_ModuleOut',\n",
              "       'UltraSonic_Corn.DistanceM', 'UltraSonic_H2O.DistanceM',\n",
              "       'BottlesAvailable.AnalogValue.EURangeViolation',\n",
              "       'BottleSlot1.AnalogValue.EURangeViolation',\n",
              "       'BottleSlot2_H2O.AnalogValue.EURangeViolation',\n",
              "       'BottleSlot3_Corn.AnalogValue.EURangeViolation',\n",
              "       'BottleSlot5_CapOn.AnalogValue.EURangeViolation',\n",
              "       'BottleSlot6_CapCloser.AnalogValue.EURangeViolation',\n",
              "       'BottleSlot8_ModuleOut.AnalogValue.EURangeViolation',\n",
              "       'BottlesNotUsed.AnalogValue.EURangeViolation',\n",
              "       'UltraSonic_Corn.DistanceM.EURangeViolation',\n",
              "       'UltraSonic_H2O.DistanceM.EURangeViolation'],\n",
              "      dtype='object')"
            ]
          },
          "execution_count": 10,
          "metadata": {},
          "output_type": "execute_result"
        }
      ],
      "source": [
        "# drop some columns that the target is derived from (otherwise we are cheating)\n",
        "df.drop(['BottlesAvailable', 'BottlesNotUsed', 'I_BottleStorageFull'], axis=1, inplace=True)\n",
        "df.columns"
      ]
    },
    {
      "cell_type": "markdown",
      "metadata": {
        "id": "s-PJjLMPLNKV"
      },
      "source": []
    },
    {
      "cell_type": "markdown",
      "metadata": {
        "id": "Vdl1Wtt7w526"
      },
      "source": [
        "## Reserve for testing\n",
        "\n",
        "Reserve the some values for testing on the Raspberry Pi or Edge Device.\n"
      ]
    },
    {
      "cell_type": "code",
      "execution_count": 11,
      "metadata": {
        "colab": {
          "base_uri": "https://localhost:8080/"
        },
        "id": "CFR6DTl5xDwK",
        "outputId": "331e136e-79bb-450d-f439-5afe934532d2"
      },
      "outputs": [
        {
          "data": {
            "text/plain": [
              "((10429, 81), (100, 81))"
            ]
          },
          "execution_count": 11,
          "metadata": {},
          "output_type": "execute_result"
        }
      ],
      "source": [
        "test_size = 100\n",
        "\n",
        "df_train = df.iloc[:-test_size]\n",
        "df_test = df.iloc[-test_size:]\n",
        "\n",
        "df_train.shape, df_test.shape"
      ]
    },
    {
      "cell_type": "code",
      "execution_count": 12,
      "metadata": {
        "id": "jTFHCNClxGda"
      },
      "outputs": [],
      "source": [
        "# save input numpy arrays for later use\n",
        "pickle.dump(df_train.loc[:, df_train.columns != target].values,\n",
        "            open('./X_train.pkl', 'wb'))\n",
        "\n",
        "pickle.dump(df_test.loc[:, df_test.columns != target].values,\n",
        "            open('./X_test.pkl', 'wb'))"
      ]
    },
    {
      "cell_type": "markdown",
      "metadata": {
        "id": "Wi1EqEi0p_Ig"
      },
      "source": [
        "## Feature Selection\n",
        "\n",
        "First, some basic feature selection: Filter out columns that don't change very much (low variance)."
      ]
    },
    {
      "cell_type": "code",
      "execution_count": 13,
      "metadata": {
        "colab": {
          "base_uri": "https://localhost:8080/"
        },
        "id": "RJl8kbsfnc0C",
        "outputId": "ef8a6432-5a76-4ed5-f589-2a28858225cd"
      },
      "outputs": [
        {
          "data": {
            "text/plain": [
              "Index(['I_BottleAtAirpipe', 'I_BottleClampClose', 'I_BottleClampOpen',\n",
              "       'I_BottleGateClosed', 'I_BottleReserveGateClosed', 'I_BottlesAvailable',\n",
              "       'I_BottleSlot1', 'I_BottleSlot2_H2O', 'I_BottleSlot3_Corn',\n",
              "       'I_BottleSlot5_CapOn', 'I_BottleSlot6_CapScrewer',\n",
              "       'I_BottleSlot8_Output', 'I_CapGrabberDown', 'I_CapGrabberUp',\n",
              "       'I_CapOnConveyor', 'I_CapScrewer_Down', 'I_CapScrewer_Up',\n",
              "       'I_CapScrewerClosePos', 'I_CapScrewerGrabClosed', 'I_CapScrewerOpenPos',\n",
              "       'I_CornTankFull', 'I_LinAxisCapInGrabber', 'I_LinAxisDown',\n",
              "       'I_LinAxisEmptyGrabber', 'I_LinAxisUp', 'I_NoCapOnConveyor',\n",
              "       'I_Portioning', 'I_Pump_Down', 'I_Pump_Up', 'I_RotaryTablePosReached',\n",
              "       'I_UltrasonicCorn', 'I_UltrasonicCorn_Distance', 'I_UltrasonicH2O',\n",
              "       'I_UltrasonicH2O_Distance', 'I_WaterTankMinFull', 'I_WaterTankNotFull',\n",
              "       'O_ActivateAirpipe', 'O_BottleClampClose', 'O_CapGrabberOpenClose',\n",
              "       'O_CapGrabberUpDown', 'O_CapScrewDown', 'O_CapScrewerGrabberOpenClose',\n",
              "       'O_CloseCap', 'O_ConveyorCapsEnable', 'O_ConveyorCapsForward',\n",
              "       'O_ConveyorModuleIn', 'O_ConveyorModuleOut', 'O_GateBottleClose',\n",
              "       'O_GateReserveClose', 'O_LinAxisUpDown', 'O_PortionerForward',\n",
              "       'O_PortionerReverse', 'O_PortionerSlow', 'O_PumpUpDown',\n",
              "       'O_RotaryTable', 'O_ValvePumpCloseOpen', 'PendingOrder', 'Portions',\n",
              "       'PumpStrokes', 'Rotating', 'SlowPortioning', 'State', 'BottleSlot1',\n",
              "       'BottleSlot2_H2O', 'BottleSlot3_Corn', 'BottleSlot5_CapOn',\n",
              "       'BottleSlot6_CapCloser', 'BottleSlot8_ModuleOut',\n",
              "       'UltraSonic_Corn.DistanceM', 'UltraSonic_H2O.DistanceM',\n",
              "       'BottlesAvailable.AnalogValue.EURangeViolation',\n",
              "       'BottleSlot1.AnalogValue.EURangeViolation',\n",
              "       'BottleSlot2_H2O.AnalogValue.EURangeViolation',\n",
              "       'BottleSlot3_Corn.AnalogValue.EURangeViolation',\n",
              "       'BottleSlot5_CapOn.AnalogValue.EURangeViolation',\n",
              "       'BottleSlot6_CapCloser.AnalogValue.EURangeViolation',\n",
              "       'BottleSlot8_ModuleOut.AnalogValue.EURangeViolation',\n",
              "       'BottlesNotUsed.AnalogValue.EURangeViolation',\n",
              "       'UltraSonic_Corn.DistanceM.EURangeViolation',\n",
              "       'UltraSonic_H2O.DistanceM.EURangeViolation'],\n",
              "      dtype='object')"
            ]
          },
          "execution_count": 13,
          "metadata": {},
          "output_type": "execute_result"
        }
      ],
      "source": [
        "# Candidate features\n",
        "\n",
        "candidates = df_train.columns[df_train.columns != target]\n",
        "candidates"
      ]
    },
    {
      "cell_type": "code",
      "execution_count": 14,
      "metadata": {
        "colab": {
          "base_uri": "https://localhost:8080/"
        },
        "id": "Y6RmjiHnosf0",
        "outputId": "3b1066fb-5167-40c5-db67-5c0dfe704889"
      },
      "outputs": [
        {
          "data": {
            "text/plain": [
              "Index(['I_BottleClampClose', 'I_BottleClampOpen', 'I_BottleSlot2_H2O',\n",
              "       'I_BottleSlot3_Corn', 'I_BottleSlot5_CapOn', 'I_BottleSlot6_CapScrewer',\n",
              "       'I_CapGrabberUp', 'I_CapScrewer_Up', 'I_CapScrewerOpenPos',\n",
              "       'I_LinAxisCapInGrabber', 'I_LinAxisDown', 'I_LinAxisEmptyGrabber',\n",
              "       'I_Pump_Down', 'I_RotaryTablePosReached', 'I_UltrasonicCorn',\n",
              "       'I_UltrasonicCorn_Distance', 'I_UltrasonicH2O_Distance',\n",
              "       'O_BottleClampClose', 'O_CapGrabberOpenClose', 'O_CapGrabberUpDown',\n",
              "       'O_CapScrewDown', 'O_CloseCap', 'O_ConveyorCapsForward',\n",
              "       'O_LinAxisUpDown', 'O_RotaryTable', 'O_ValvePumpCloseOpen',\n",
              "       'PendingOrder', 'Rotating', 'State', 'BottleSlot1', 'BottleSlot2_H2O',\n",
              "       'BottleSlot3_Corn', 'BottleSlot5_CapOn', 'BottleSlot6_CapCloser',\n",
              "       'BottleSlot8_ModuleOut', 'UltraSonic_Corn.DistanceM',\n",
              "       'UltraSonic_H2O.DistanceM'],\n",
              "      dtype='object')"
            ]
          },
          "execution_count": 14,
          "metadata": {},
          "output_type": "execute_result"
        }
      ],
      "source": [
        "# Apply variance threshold of 0.1\n",
        "vt = VarianceThreshold(threshold=0.1)\n",
        "vt.fit(df_train[candidates])\n",
        "\n",
        "# filtered out features\n",
        "features = candidates[vt.get_support()]\n",
        "features"
      ]
    },
    {
      "cell_type": "markdown",
      "metadata": {
        "id": "I450WKGxp8iK"
      },
      "source": [
        "## Scaling\n",
        "\n",
        "Next, scale the features so that we can speed up training."
      ]
    },
    {
      "cell_type": "code",
      "execution_count": 15,
      "metadata": {
        "colab": {
          "base_uri": "https://localhost:8080/"
        },
        "id": "sxqF8I-Ns2xj",
        "outputId": "5ea16019-11d9-4112-8edc-617e8d6cc6fb"
      },
      "outputs": [
        {
          "data": {
            "text/plain": [
              "array([[-1.        ,  1.        , -1.        , ..., -0.99369085,\n",
              "        -0.94641148,  1.        ],\n",
              "       [-1.        ,  1.        , -1.        , ..., -0.99369085,\n",
              "        -0.94449761,  1.        ],\n",
              "       [-1.        ,  1.        , -1.        , ..., -0.99369085,\n",
              "        -0.95215311,  1.        ],\n",
              "       ...,\n",
              "       [-1.        ,  1.        , -1.        , ..., -0.99369085,\n",
              "        -0.99808612, -0.53684211],\n",
              "       [-1.        ,  1.        , -1.        , ..., -0.99369085,\n",
              "        -0.99808612, -0.53684211],\n",
              "       [-1.        ,  1.        , -1.        , ..., -0.99369085,\n",
              "        -0.99808612, -0.53684211]])"
            ]
          },
          "execution_count": 15,
          "metadata": {},
          "output_type": "execute_result"
        }
      ],
      "source": [
        "feature_scaler = MinMaxScaler(feature_range=(-1, 1))\n",
        "feature_values = feature_scaler.fit_transform(df_train[features])\n",
        "feature_values"
      ]
    },
    {
      "cell_type": "markdown",
      "metadata": {
        "id": "QwfGR-uttMFp"
      },
      "source": [
        "## Time Series Windowing\n",
        "\n",
        "Next, convert the time series so that each entry contains a series of timesteps.\n",
        "\n",
        "Before: rows, features\n",
        "\n",
        "After: rows, timesteps, features\n",
        "\n",
        "Note that some rows will be removed because we are taking a window of values."
      ]
    },
    {
      "cell_type": "code",
      "execution_count": 16,
      "metadata": {
        "colab": {
          "base_uri": "https://localhost:8080/"
        },
        "id": "dQcRa6rhuAT6",
        "outputId": "742649ec-a6e9-43e6-a84a-1ad19e96f93e"
      },
      "outputs": [
        {
          "name": "stdout",
          "output_type": "stream",
          "text": [
            "(10429, 37)\n"
          ]
        },
        {
          "data": {
            "text/plain": [
              "(10419, 10, 37)"
            ]
          },
          "execution_count": 16,
          "metadata": {},
          "output_type": "execute_result"
        }
      ],
      "source": [
        "timesteps = 10\n",
        "\n",
        "print(feature_values.shape) # (rows, features)\n",
        "\n",
        "rolling_indexes = [(range(i, i+timesteps))\n",
        "                   for i in range(feature_values.shape[0]-timesteps)]\n",
        "\n",
        "X_sequence = np.take(feature_values, rolling_indexes, axis=0)\n",
        "X_sequence.shape # (rows, timesteps, features)"
      ]
    },
    {
      "cell_type": "code",
      "execution_count": 17,
      "metadata": {
        "colab": {
          "base_uri": "https://localhost:8080/"
        },
        "id": "9S6D2yR2u_Jk",
        "outputId": "763e9d8d-3499-4159-ef66-2c221ed825dd"
      },
      "outputs": [
        {
          "data": {
            "text/plain": [
              "(10419,)"
            ]
          },
          "execution_count": 17,
          "metadata": {},
          "output_type": "execute_result"
        }
      ],
      "source": [
        "# shift y down by 1 value so that we are predicting the future\n",
        "# make sure y is the same length as X_sequence\n",
        "\n",
        "# print(df[target].shape)\n",
        "y = df[target][timesteps:X_sequence.shape[0]+timesteps].values\n",
        "y.shape"
      ]
    },
    {
      "cell_type": "markdown",
      "metadata": {
        "id": "4X6W5eIGvqvu"
      },
      "source": [
        "## Train model\n",
        "\n",
        "We will train a very simple 1D convolutional model to try to predict y from X_sequence.\n",
        "\n",
        "To recap:\n",
        "\n",
        "- X_sequence (rows, timesteps, features): each scaled feature at [t-9] ... [t]\n",
        "- y (rows): target[t+1]\n",
        "\n",
        "The convolutional 1D layer will look at windows of timesteps, one feature at a time. Here's a more detailed reference on it for time series data: https://missinglink.ai/guides/keras/keras-conv1d-working-1d-convolutional-neural-networks-keras/\n",
        "\n",
        "\n",
        "Note: we can also train an LSTM model, but currently Tensorflow Lite with Keras does not support it nicely (yet): https://github.com/tensorflow/tensorflow/issues/30864"
      ]
    },
    {
      "cell_type": "code",
      "execution_count": 18,
      "metadata": {
        "colab": {
          "base_uri": "https://localhost:8080/"
        },
        "id": "ZJNTF_O0wwWx",
        "outputId": "d7de9acd-92de-43a3-a867-3697152a2d62"
      },
      "outputs": [
        {
          "data": {
            "text/plain": [
              "((9377, 10, 37), (1042, 10, 37), (9377,), (1042,))"
            ]
          },
          "execution_count": 18,
          "metadata": {},
          "output_type": "execute_result"
        }
      ],
      "source": [
        "# create training and validation set\n",
        "X_train, X_val, y_train, y_val = train_test_split(X_sequence, y, test_size=0.1,\n",
        "                                                  stratify=y)\n",
        "\n",
        "X_train.shape, X_val.shape, y_train.shape, y_val.shape"
      ]
    },
    {
      "cell_type": "code",
      "execution_count": 19,
      "metadata": {
        "colab": {
          "base_uri": "https://localhost:8080/"
        },
        "id": "vQFDJF2ZzIgz",
        "outputId": "8975e953-ccac-4542-fa0d-770d8e78c45f"
      },
      "outputs": [
        {
          "name": "stdout",
          "output_type": "stream",
          "text": [
            "Model: \"sequential\"\n",
            "_________________________________________________________________\n",
            " Layer (type)                Output Shape              Param #   \n",
            "=================================================================\n",
            " conv1d (Conv1D)             (None, 10, 64)            7168      \n",
            "                                                                 \n",
            " flatten (Flatten)           (None, 640)               0         \n",
            "                                                                 \n",
            " dense (Dense)               (None, 64)                41024     \n",
            "                                                                 \n",
            " dense_1 (Dense)             (None, 1)                 65        \n",
            "                                                                 \n",
            "=================================================================\n",
            "Total params: 48257 (188.50 KB)\n",
            "Trainable params: 48257 (188.50 KB)\n",
            "Non-trainable params: 0 (0.00 Byte)\n",
            "_________________________________________________________________\n"
          ]
        }
      ],
      "source": [
        "model = Sequential()\n",
        "\n",
        "# input_shape=(timesteps, features)\n",
        "model.add(Conv1D(64, kernel_size=3,\n",
        "                 input_shape=(X_train.shape[1], X_train.shape[2]),\n",
        "                 activation='relu', padding='same'))\n",
        "model.add(Flatten())\n",
        "model.add(Dense(64, activation='relu'))\n",
        "model.add(Dense(1, activation='sigmoid'))\n",
        "model.summary()"
      ]
    },
    {
      "cell_type": "code",
      "execution_count": 20,
      "metadata": {
        "id": "gBg-PTRMzeRW"
      },
      "outputs": [],
      "source": [
        "model.compile(loss='binary_crossentropy', optimizer='adam', metrics=['acc'])"
      ]
    },
    {
      "cell_type": "code",
      "execution_count": 21,
      "metadata": {
        "id": "4Y9pngt3znUO"
      },
      "outputs": [],
      "source": [
        "mc = ModelCheckpoint('./cnn.h5', save_best_only=True)"
      ]
    },
    {
      "cell_type": "code",
      "execution_count": 22,
      "metadata": {
        "colab": {
          "base_uri": "https://localhost:8080/"
        },
        "id": "Lz_DdKvCzwzP",
        "outputId": "3b919bad-d6dc-4e0d-e855-4bb16bac6216"
      },
      "outputs": [
        {
          "name": "stdout",
          "output_type": "stream",
          "text": [
            "Epoch 1/20\n",
            "294/294 [==============================] - 7s 8ms/step - loss: 0.2086 - acc: 0.9096 - val_loss: 0.1270 - val_acc: 0.9386\n",
            "Epoch 2/20\n",
            " 26/294 [=>............................] - ETA: 1s - loss: 0.1511 - acc: 0.9375"
          ]
        },
        {
          "name": "stderr",
          "output_type": "stream",
          "text": [
            "/usr/local/lib/python3.10/dist-packages/keras/src/engine/training.py:3103: UserWarning: You are saving your model as an HDF5 file via `model.save()`. This file format is considered legacy. We recommend using instead the native Keras format, e.g. `model.save('my_model.keras')`.\n",
            "  saving_api.save_model(\n"
          ]
        },
        {
          "name": "stdout",
          "output_type": "stream",
          "text": [
            "294/294 [==============================] - 2s 6ms/step - loss: 0.1141 - acc: 0.9522 - val_loss: 0.1172 - val_acc: 0.9511\n",
            "Epoch 3/20\n",
            "294/294 [==============================] - 1s 4ms/step - loss: 0.0955 - acc: 0.9582 - val_loss: 0.0754 - val_acc: 0.9559\n",
            "Epoch 4/20\n",
            "294/294 [==============================] - 1s 4ms/step - loss: 0.0866 - acc: 0.9622 - val_loss: 0.0802 - val_acc: 0.9731\n",
            "Epoch 5/20\n",
            "294/294 [==============================] - 1s 4ms/step - loss: 0.0718 - acc: 0.9688 - val_loss: 0.1076 - val_acc: 0.9568\n",
            "Epoch 6/20\n",
            "294/294 [==============================] - 2s 5ms/step - loss: 0.0618 - acc: 0.9722 - val_loss: 0.0590 - val_acc: 0.9750\n",
            "Epoch 7/20\n",
            "294/294 [==============================] - 1s 4ms/step - loss: 0.0538 - acc: 0.9749 - val_loss: 0.0530 - val_acc: 0.9731\n",
            "Epoch 8/20\n",
            "294/294 [==============================] - 1s 4ms/step - loss: 0.0487 - acc: 0.9785 - val_loss: 0.0904 - val_acc: 0.9664\n",
            "Epoch 9/20\n",
            "294/294 [==============================] - 1s 4ms/step - loss: 0.0468 - acc: 0.9819 - val_loss: 0.0426 - val_acc: 0.9798\n",
            "Epoch 10/20\n",
            "294/294 [==============================] - 1s 4ms/step - loss: 0.0412 - acc: 0.9837 - val_loss: 0.0335 - val_acc: 0.9866\n",
            "Epoch 11/20\n",
            "294/294 [==============================] - 1s 4ms/step - loss: 0.0363 - acc: 0.9861 - val_loss: 0.0311 - val_acc: 0.9837\n",
            "Epoch 12/20\n",
            "294/294 [==============================] - 1s 4ms/step - loss: 0.0338 - acc: 0.9861 - val_loss: 0.0317 - val_acc: 0.9885\n",
            "Epoch 13/20\n",
            "294/294 [==============================] - 1s 4ms/step - loss: 0.0347 - acc: 0.9860 - val_loss: 0.0388 - val_acc: 0.9808\n",
            "Epoch 14/20\n",
            "294/294 [==============================] - 1s 4ms/step - loss: 0.0304 - acc: 0.9885 - val_loss: 0.0363 - val_acc: 0.9818\n",
            "Epoch 15/20\n",
            "294/294 [==============================] - 1s 4ms/step - loss: 0.0378 - acc: 0.9842 - val_loss: 0.0248 - val_acc: 0.9933\n",
            "Epoch 16/20\n",
            "294/294 [==============================] - 1s 5ms/step - loss: 0.0318 - acc: 0.9872 - val_loss: 0.0205 - val_acc: 0.9942\n",
            "Epoch 17/20\n",
            "294/294 [==============================] - 1s 5ms/step - loss: 0.0314 - acc: 0.9875 - val_loss: 0.0504 - val_acc: 0.9827\n",
            "Epoch 18/20\n",
            "294/294 [==============================] - 1s 4ms/step - loss: 0.0296 - acc: 0.9878 - val_loss: 0.0697 - val_acc: 0.9779\n",
            "Epoch 19/20\n",
            "294/294 [==============================] - 1s 4ms/step - loss: 0.0430 - acc: 0.9836 - val_loss: 0.0268 - val_acc: 0.9894\n",
            "Epoch 20/20\n",
            "294/294 [==============================] - 1s 4ms/step - loss: 0.0269 - acc: 0.9897 - val_loss: 0.0255 - val_acc: 0.9914\n"
          ]
        }
      ],
      "source": [
        "history = model.fit(X_train, y_train, epochs=20,\n",
        "                    validation_data=(X_val, y_val), callbacks=[mc])"
      ]
    },
    {
      "cell_type": "code",
      "execution_count": 23,
      "metadata": {
        "colab": {
          "base_uri": "https://localhost:8080/",
          "height": 727
        },
        "id": "hbuJgmewz8im",
        "outputId": "524decd3-b565-44a9-85a2-69b51d9529ac"
      },
      "outputs": [
        {
          "data": {
            "image/png": "[encoded data removed]",
            "text/plain": [
              "<Figure size 1000x800 with 1 Axes>"
            ]
          },
          "metadata": {},
          "output_type": "display_data"
        }
      ],
      "source": [
        "fig, ax = plt.subplots(figsize=(10, 8))\n",
        "ax.plot(history.history['loss'], label='train')\n",
        "ax.plot(history.history['val_loss'], label='val')\n",
        "ax.legend()\n",
        "ax.set_title('Learning curve')\n",
        "ax.set_xlabel('Epochs')\n",
        "ax.set_ylabel('Loss')\n",
        "plt.show()"
      ]
    },
    {
      "cell_type": "markdown",
      "metadata": {
        "id": "tahIDN_WDvQM"
      },
      "source": [
        "### Predictions\n",
        "\n",
        "We'll test the model by getting predictions for our test data.\n",
        "\n",
        "The steps followed here will be repeated on the Raspberry Pi or Edge Device, so we want to make sure these are repeatable."
      ]
    },
    {
      "cell_type": "code",
      "execution_count": 24,
      "metadata": {
        "colab": {
          "base_uri": "https://localhost:8080/"
        },
        "id": "hiJUdJpSDlNZ",
        "outputId": "74f16559-c079-4915-e991-fdb05f9c8e5b"
      },
      "outputs": [
        {
          "data": {
            "text/plain": [
              "((100, 80), (100, 1))"
            ]
          },
          "execution_count": 24,
          "metadata": {},
          "output_type": "execute_result"
        }
      ],
      "source": [
        "df_test_X = df_test.loc[:, df_test.columns != target]\n",
        "df_test_y = df_test[[target]]\n",
        "\n",
        "df_test_X.shape, df_test_y.shape"
      ]
    },
    {
      "cell_type": "code",
      "execution_count": 25,
      "metadata": {
        "colab": {
          "base_uri": "https://localhost:8080/"
        },
        "id": "USjKp883EOqk",
        "outputId": "4323b3b1-a7f4-4450-8446-1661ec2de251"
      },
      "outputs": [
        {
          "name": "stdout",
          "output_type": "stream",
          "text": [
            "(90, 10, 37)\n"
          ]
        },
        {
          "name": "stderr",
          "output_type": "stream",
          "text": [
            "/usr/local/lib/python3.10/dist-packages/sklearn/base.py:439: UserWarning: X does not have valid feature names, but MinMaxScaler was fitted with feature names\n",
            "  warnings.warn(\n"
          ]
        }
      ],
      "source": [
        "# select features\n",
        "test_X = vt.transform(df_test_X)\n",
        "\n",
        "# scale\n",
        "test_X_scaled = feature_scaler.transform(test_X)\n",
        "\n",
        "# create windowed\n",
        "rolling_indexes = [(range(i, i+timesteps))\n",
        "                   for i in range(test_X_scaled.shape[0]-timesteps)]\n",
        "\n",
        "test_X_sequence = np.take(test_X_scaled, rolling_indexes, axis=0)\n",
        "\n",
        "print(test_X_sequence.shape) # (rows, timesteps, features)"
      ]
    },
    {
      "cell_type": "code",
      "execution_count": 26,
      "metadata": {
        "colab": {
          "base_uri": "https://localhost:8080/"
        },
        "id": "zGz6tdoxJHcx",
        "outputId": "4b6b1c21-f237-4790-b7d7-62271b82cc41"
      },
      "outputs": [
        {
          "name": "stdout",
          "output_type": "stream",
          "text": [
            "(90, 1)\n"
          ]
        }
      ],
      "source": [
        "# shift y down by window values so that we are predicting the future\n",
        "test_y = df_test_y[timesteps:]\n",
        "\n",
        "# make sure y is the same number of rows as test_X_sequence\n",
        "print(test_y.shape)"
      ]
    },
    {
      "cell_type": "code",
      "execution_count": 27,
      "metadata": {
        "colab": {
          "base_uri": "https://localhost:8080/"
        },
        "id": "j4W4u4A7EvG-",
        "outputId": "a7adfafa-ba04-4fbd-b787-f129513e22c5"
      },
      "outputs": [
        {
          "name": "stdout",
          "output_type": "stream",
          "text": [
            "3/3 [==============================] - 0s 24ms/step\n"
          ]
        }
      ],
      "source": [
        "# predict by loading the checkpointed model with the lowest validation loss\n",
        "best_model = load_model('./cnn.h5')\n",
        "# pred = best_model.predict_classes(test_X_sequence)\n",
        "pred = (best_model.predict(test_X_sequence) > 0.5).astype('int32')"
      ]
    },
    {
      "cell_type": "code",
      "execution_count": 28,
      "metadata": {
        "colab": {
          "base_uri": "https://localhost:8080/"
        },
        "id": "UTooEXjjJrMz",
        "outputId": "9c4fca86-b2af-4196-e50b-085a516f9288"
      },
      "outputs": [
        {
          "name": "stdout",
          "output_type": "stream",
          "text": [
            "              precision    recall  f1-score   support\n",
            "\n",
            "           1       1.00      1.00      1.00        90\n",
            "\n",
            "    accuracy                           1.00        90\n",
            "   macro avg       1.00      1.00      1.00        90\n",
            "weighted avg       1.00      1.00      1.00        90\n",
            "\n",
            "[[90]]\n"
          ]
        }
      ],
      "source": [
        "# score\n",
        "print(classification_report(test_y, pred))\n",
        "print(confusion_matrix(test_y, pred))"
      ]
    },
    {
      "cell_type": "code",
      "execution_count": 29,
      "metadata": {
        "colab": {
          "base_uri": "https://localhost:8080/"
        },
        "id": "-Y9NVNM1cOTe",
        "outputId": "b0e96f18-985e-4c8a-c9f6-2ca23ef3f69e"
      },
      "outputs": [
        {
          "name": "stdout",
          "output_type": "stream",
          "text": [
            "33/33 [==============================] - 0s 2ms/step\n",
            "              precision    recall  f1-score   support\n",
            "\n",
            "           0       1.00      0.99      0.99       493\n",
            "           1       0.99      1.00      0.99       549\n",
            "\n",
            "    accuracy                           0.99      1042\n",
            "   macro avg       0.99      0.99      0.99      1042\n",
            "weighted avg       0.99      0.99      0.99      1042\n",
            "\n",
            "[[488   5]\n",
            " [  1 548]]\n"
          ]
        }
      ],
      "source": [
        "# try to predict some class 0 values using validation set\n",
        "\n",
        "# pred_val = model.predict_classes(X_val)\n",
        "pred_val = (best_model.predict(X_val) > 0.5).astype('int32')\n",
        "\n",
        "print(classification_report(y_val, pred_val))\n",
        "print(confusion_matrix(y_val, pred_val))"
      ]
    },
    {
      "cell_type": "code",
      "execution_count": null,
      "metadata": {
        "id": "iVGUHHVw4m65"
      },
      "outputs": [],
      "source": []
    },
    {
      "cell_type": "markdown",
      "metadata": {
        "id": "V6Uk91yIeRqX"
      },
      "source": [
        "## Deployment\n",
        "\n",
        "1. Save pre-processors\n",
        "2. Convert to Tensorflow Lite: https://www.tensorflow.org/lite/convert#from_model_training_to_device_deployment"
      ]
    },
    {
      "cell_type": "code",
      "execution_count": 30,
      "metadata": {
        "id": "r2ATL_6He5GM"
      },
      "outputs": [],
      "source": [
        "# Save preprocessors, create a dictionary so that everything in 1 place\n",
        "\n",
        "preprocessors = {\n",
        "    'variance_threshold' : vt,\n",
        "    'feature_scaler' : feature_scaler\n",
        "}\n",
        "\n",
        "pickle.dump(preprocessors, open('./preprocessors.pkl', 'wb'))"
      ]
    },
    {
      "cell_type": "code",
      "execution_count": 31,
      "metadata": {
        "colab": {
          "base_uri": "https://localhost:8080/"
        },
        "id": "S-cvueJofSG3",
        "outputId": "4b54b47a-8e13-4b9d-bf34-505992650a5e"
      },
      "outputs": [
        {
          "name": "stderr",
          "output_type": "stream",
          "text": [
            "WARNING:absl:Optimization option OPTIMIZE_FOR_LATENCY is deprecated, please use optimizations=[Optimize.DEFAULT] instead.\n",
            "WARNING:absl:Optimization option OPTIMIZE_FOR_LATENCY is deprecated, please use optimizations=[Optimize.DEFAULT] instead.\n",
            "WARNING:absl:Optimization option OPTIMIZE_FOR_LATENCY is deprecated, please use optimizations=[Optimize.DEFAULT] instead.\n"
          ]
        }
      ],
      "source": [
        "# Convert to Tensorflow lite\n",
        "\n",
        "# older version of TFLite\n",
        "# converter = tf.lite.TFLiteConverter.from_keras_model_file('./cnn.h5')\n",
        "\n",
        "# latest version of TFLite\n",
        "saved_model = tf.keras.models.load_model('./cnn.h5')\n",
        "converter = tf.lite.TFLiteConverter.from_keras_model(saved_model)\n",
        "\n",
        "# https://www.tensorflow.org/api_docs/python/tf/lite/Optimize\n",
        "converter.optimizations = [tf.lite.Optimize.OPTIMIZE_FOR_LATENCY]\n",
        "\n",
        "tflite_model = converter.convert()\n",
        "with open('./cnn.tflite', 'wb') as f:\n",
        "  f.write(tflite_model)"
      ]
    },
    {
      "cell_type": "markdown",
      "metadata": {
        "id": "JiitATTdskPd"
      },
      "source": [
        "### Testing TensorFlow Lite Inference\n",
        "\n",
        "https://www.tensorflow.org/lite/guide/inference#running_a_model\n",
        "\n",
        "Before running inference on a Raspberry Pi or Edge Device, it is easier to write code and test out the inference on a PC or Google Cloud."
      ]
    },
    {
      "cell_type": "code",
      "execution_count": 32,
      "metadata": {
        "id": "jDidAr3cueqA"
      },
      "outputs": [],
      "source": [
        "# This is the code we will run on the Raspberry Pi or Edge Device\n",
        "import pickle\n",
        "import numpy as np\n",
        "import tensorflow as tf\n",
        "\n",
        "def load_test_data(data_filename, preprocessors_filename):\n",
        "  timesteps = 10\n",
        "\n",
        "  # Load test data and process it\n",
        "  test_array = pickle.load(open(data_filename, 'rb'))\n",
        "\n",
        "  preprocessors = pickle.load(open(preprocessors_filename, 'rb'))\n",
        "  vt = preprocessors['variance_threshold']\n",
        "  feature_scaler = preprocessors['feature_scaler']\n",
        "\n",
        "  # select features\n",
        "  test_X = vt.transform(test_array)\n",
        "\n",
        "  # scale\n",
        "  test_X_scaled = feature_scaler.transform(test_X)\n",
        "\n",
        "  # create windowed\n",
        "  rolling_indexes = [(range(i, i+timesteps))\n",
        "                     for i in range(test_X_scaled.shape[0]-timesteps)]\n",
        "\n",
        "  test_X_sequence = np.take(test_X_scaled, rolling_indexes, axis=0)\n",
        "  print(test_X_sequence.shape) # (rows, timesteps, features)\n",
        "\n",
        "  return test_X_sequence"
      ]
    },
    {
      "cell_type": "code",
      "execution_count": 33,
      "metadata": {
        "colab": {
          "base_uri": "https://localhost:8080/"
        },
        "id": "4UVR01Qmwqoo",
        "outputId": "d190eb43-c2de-46d9-8c65-d20da7e627b2"
      },
      "outputs": [
        {
          "name": "stdout",
          "output_type": "stream",
          "text": [
            "(90, 10, 37)\n"
          ]
        },
        {
          "name": "stderr",
          "output_type": "stream",
          "text": [
            "/usr/local/lib/python3.10/dist-packages/sklearn/base.py:439: UserWarning: X does not have valid feature names, but VarianceThreshold was fitted with feature names\n",
            "  warnings.warn(\n",
            "/usr/local/lib/python3.10/dist-packages/sklearn/base.py:439: UserWarning: X does not have valid feature names, but MinMaxScaler was fitted with feature names\n",
            "  warnings.warn(\n"
          ]
        }
      ],
      "source": [
        "X_test = load_test_data('./X_test.pkl', './preprocessors.pkl')"
      ]
    },
    {
      "cell_type": "code",
      "execution_count": 34,
      "metadata": {
        "id": "mArG7XJat0Pu"
      },
      "outputs": [],
      "source": [
        "def predict(model_path, test_data):\n",
        "  # Load TFLite model and allocate tensors.\n",
        "  interpreter = tf.lite.Interpreter(model_path=model_path)\n",
        "  interpreter.allocate_tensors()\n",
        "\n",
        "  # Get input and output tensors.\n",
        "  input_details = interpreter.get_input_details()\n",
        "  output_details = interpreter.get_output_details()\n",
        "\n",
        "  # Test model on input data.\n",
        "  input_shape = input_details[0]['shape']\n",
        "\n",
        "  # Loop through each row of test_data and perform inference\n",
        "  for i in range(test_data.shape[0]):\n",
        "\n",
        "    # add batch dimension\n",
        "    input_data = np.expand_dims(test_data[i], axis=0).astype('float32')\n",
        "\n",
        "    interpreter.set_tensor(input_details[0]['index'], input_data)\n",
        "    interpreter.invoke()\n",
        "\n",
        "    # The function `get_tensor()` returns a copy of the tensor data.\n",
        "    # Use `tensor()` in order to get a pointer to the tensor.\n",
        "    output_data = interpreter.get_tensor(output_details[0]['index'])\n",
        "    print(output_data)"
      ]
    },
    {
      "cell_type": "markdown",
      "metadata": {
        "id": "shAXE78UKseL"
      },
      "source": [
        "### Exercise 1: Testing the compressed model\n",
        "<p>\n",
        "<font color=\"red\">\n",
        "Update the cell below to get predictions from N randomly chosen samples, using the Tensorflow Lite version of the model.\n",
        "</font>\n",
        "</p>\n",
        "<p>\n",
        "<font color=\"green\">\n",
        "Submission:\n",
        "<ol>\n",
        "<li type='a'>Paste the updated code into the submission worksheet</li>\n",
        "<li type='a'>Paste predictions into the submission worksheet</li>\n",
        "</ol>\n",
        "</font>\n",
        "</p>"
      ]
    },
    {
      "cell_type": "code",
      "execution_count": null,
      "metadata": {
        "colab": {
          "base_uri": "https://localhost:8080/"
        },
        "id": "F__0o3I6uLtu",
        "outputId": "33dfa228-7cbe-4060-921a-628965fb2c94"
      },
      "outputs": [
        {
          "name": "stdout",
          "output_type": "stream",
          "text": [
            "(90, 10, 37)\n"
          ]
        }
      ],
      "source": [
        "# Exercise: test out your compressed tensorflow lite model to get\n",
        "# predictions from randomly selected samples before deploying to the Edge device.\n",
        "#\n",
        "# Hint1: you may use the helper function above to get a prediction.\n",
        "# Hint2: you may use the following code to get a random selection of samples\n",
        "# N = <pick_a_number>\n",
        "# random_index = np.random.choice(range(len(X_test)), N)\n",
        "#\n",
        "\n",
        "X_test = load_test_data('./X_test.pkl', './preprocessors.pkl')\n",
        "\n",
        "#\n",
        "# ADD YOUR CODE BELOW\n",
        "#"
      ]
    },
    {
      "cell_type": "code",
      "execution_count": null,
      "metadata": {
        "id": "jEELC31DkNCy"
      },
      "outputs": [],
      "source": []
    }
  ],
  "metadata": {
    "accelerator": "GPU",
    "colab": {
      "name": "edge_time_series_classification.ipynb",
      "provenance": []
    },
    "kernelspec": {
      "display_name": "Python 3",
      "name": "python3"
    }
  },
  "nbformat": 4,
  "nbformat_minor": 0
}
